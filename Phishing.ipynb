{
 "cells": [
  {
   "cell_type": "code",
   "execution_count": 1,
   "metadata": {},
   "outputs": [],
   "source": [
    "import pandas as pd\n",
    "import numpy as np\n",
    "import matplotlib.pyplot as plt\n",
    "import seaborn as sns"
   ]
  },
  {
   "cell_type": "markdown",
   "metadata": {},
   "source": [
    "### Import Data and Overview"
   ]
  },
  {
   "cell_type": "code",
   "execution_count": 2,
   "metadata": {},
   "outputs": [
    {
     "data": {
      "text/html": [
       "<div>\n",
       "<style scoped>\n",
       "    .dataframe tbody tr th:only-of-type {\n",
       "        vertical-align: middle;\n",
       "    }\n",
       "\n",
       "    .dataframe tbody tr th {\n",
       "        vertical-align: top;\n",
       "    }\n",
       "\n",
       "    .dataframe thead th {\n",
       "        text-align: right;\n",
       "    }\n",
       "</style>\n",
       "<table border=\"1\" class=\"dataframe\">\n",
       "  <thead>\n",
       "    <tr style=\"text-align: right;\">\n",
       "      <th></th>\n",
       "      <th>having_IP_Address</th>\n",
       "      <th>URL_Length</th>\n",
       "      <th>Shortining_Service</th>\n",
       "      <th>having_At_Symbol</th>\n",
       "      <th>double_slash_redirecting</th>\n",
       "      <th>Prefix_Suffix</th>\n",
       "      <th>having_Sub_Domain</th>\n",
       "      <th>SSLfinal_State</th>\n",
       "      <th>Domain_registeration_length</th>\n",
       "      <th>Favicon</th>\n",
       "      <th>port</th>\n",
       "      <th>HTTPS_token</th>\n",
       "      <th>Request_URL</th>\n",
       "      <th>URL_of_Anchor</th>\n",
       "      <th>Links_in_tags</th>\n",
       "      <th>SFH</th>\n",
       "      <th>Submitting_to_email</th>\n",
       "      <th>Abnormal_URL</th>\n",
       "      <th>Redirect</th>\n",
       "      <th>on_mouseover</th>\n",
       "      <th>RightClick</th>\n",
       "      <th>popUpWidnow</th>\n",
       "      <th>Iframe</th>\n",
       "      <th>age_of_domain</th>\n",
       "      <th>DNSRecord</th>\n",
       "      <th>web_traffic</th>\n",
       "      <th>Page_Rank</th>\n",
       "      <th>Google_Index</th>\n",
       "      <th>Links_pointing_to_page</th>\n",
       "      <th>Statistical_report</th>\n",
       "      <th>Result</th>\n",
       "    </tr>\n",
       "  </thead>\n",
       "  <tbody>\n",
       "    <tr>\n",
       "      <th>0</th>\n",
       "      <td>1</td>\n",
       "      <td>1</td>\n",
       "      <td>0</td>\n",
       "      <td>0</td>\n",
       "      <td>1</td>\n",
       "      <td>-1</td>\n",
       "      <td>-1</td>\n",
       "      <td>-1</td>\n",
       "      <td>0</td>\n",
       "      <td>0</td>\n",
       "      <td>0</td>\n",
       "      <td>1</td>\n",
       "      <td>1</td>\n",
       "      <td>-1</td>\n",
       "      <td>1</td>\n",
       "      <td>-1</td>\n",
       "      <td>1</td>\n",
       "      <td>1</td>\n",
       "      <td>0</td>\n",
       "      <td>0</td>\n",
       "      <td>0</td>\n",
       "      <td>0</td>\n",
       "      <td>0</td>\n",
       "      <td>-1</td>\n",
       "      <td>1</td>\n",
       "      <td>-1</td>\n",
       "      <td>-1</td>\n",
       "      <td>0</td>\n",
       "      <td>1</td>\n",
       "      <td>1</td>\n",
       "      <td>1</td>\n",
       "    </tr>\n",
       "    <tr>\n",
       "      <th>1</th>\n",
       "      <td>0</td>\n",
       "      <td>1</td>\n",
       "      <td>0</td>\n",
       "      <td>0</td>\n",
       "      <td>0</td>\n",
       "      <td>-1</td>\n",
       "      <td>0</td>\n",
       "      <td>1</td>\n",
       "      <td>0</td>\n",
       "      <td>0</td>\n",
       "      <td>0</td>\n",
       "      <td>1</td>\n",
       "      <td>1</td>\n",
       "      <td>0</td>\n",
       "      <td>-1</td>\n",
       "      <td>-1</td>\n",
       "      <td>0</td>\n",
       "      <td>0</td>\n",
       "      <td>0</td>\n",
       "      <td>0</td>\n",
       "      <td>0</td>\n",
       "      <td>0</td>\n",
       "      <td>0</td>\n",
       "      <td>-1</td>\n",
       "      <td>1</td>\n",
       "      <td>0</td>\n",
       "      <td>-1</td>\n",
       "      <td>0</td>\n",
       "      <td>1</td>\n",
       "      <td>0</td>\n",
       "      <td>1</td>\n",
       "    </tr>\n",
       "    <tr>\n",
       "      <th>2</th>\n",
       "      <td>0</td>\n",
       "      <td>0</td>\n",
       "      <td>0</td>\n",
       "      <td>0</td>\n",
       "      <td>0</td>\n",
       "      <td>-1</td>\n",
       "      <td>-1</td>\n",
       "      <td>-1</td>\n",
       "      <td>0</td>\n",
       "      <td>0</td>\n",
       "      <td>0</td>\n",
       "      <td>1</td>\n",
       "      <td>1</td>\n",
       "      <td>0</td>\n",
       "      <td>-1</td>\n",
       "      <td>-1</td>\n",
       "      <td>1</td>\n",
       "      <td>1</td>\n",
       "      <td>0</td>\n",
       "      <td>0</td>\n",
       "      <td>0</td>\n",
       "      <td>0</td>\n",
       "      <td>0</td>\n",
       "      <td>0</td>\n",
       "      <td>1</td>\n",
       "      <td>1</td>\n",
       "      <td>-1</td>\n",
       "      <td>0</td>\n",
       "      <td>0</td>\n",
       "      <td>1</td>\n",
       "      <td>1</td>\n",
       "    </tr>\n",
       "    <tr>\n",
       "      <th>3</th>\n",
       "      <td>0</td>\n",
       "      <td>0</td>\n",
       "      <td>0</td>\n",
       "      <td>0</td>\n",
       "      <td>0</td>\n",
       "      <td>-1</td>\n",
       "      <td>-1</td>\n",
       "      <td>-1</td>\n",
       "      <td>1</td>\n",
       "      <td>0</td>\n",
       "      <td>0</td>\n",
       "      <td>1</td>\n",
       "      <td>-1</td>\n",
       "      <td>0</td>\n",
       "      <td>0</td>\n",
       "      <td>-1</td>\n",
       "      <td>0</td>\n",
       "      <td>0</td>\n",
       "      <td>0</td>\n",
       "      <td>0</td>\n",
       "      <td>0</td>\n",
       "      <td>0</td>\n",
       "      <td>0</td>\n",
       "      <td>-1</td>\n",
       "      <td>1</td>\n",
       "      <td>1</td>\n",
       "      <td>-1</td>\n",
       "      <td>0</td>\n",
       "      <td>-1</td>\n",
       "      <td>0</td>\n",
       "      <td>1</td>\n",
       "    </tr>\n",
       "    <tr>\n",
       "      <th>4</th>\n",
       "      <td>0</td>\n",
       "      <td>0</td>\n",
       "      <td>1</td>\n",
       "      <td>0</td>\n",
       "      <td>0</td>\n",
       "      <td>-1</td>\n",
       "      <td>1</td>\n",
       "      <td>1</td>\n",
       "      <td>0</td>\n",
       "      <td>0</td>\n",
       "      <td>0</td>\n",
       "      <td>0</td>\n",
       "      <td>1</td>\n",
       "      <td>0</td>\n",
       "      <td>0</td>\n",
       "      <td>-1</td>\n",
       "      <td>0</td>\n",
       "      <td>0</td>\n",
       "      <td>0</td>\n",
       "      <td>1</td>\n",
       "      <td>0</td>\n",
       "      <td>1</td>\n",
       "      <td>0</td>\n",
       "      <td>-1</td>\n",
       "      <td>1</td>\n",
       "      <td>0</td>\n",
       "      <td>-1</td>\n",
       "      <td>0</td>\n",
       "      <td>1</td>\n",
       "      <td>0</td>\n",
       "      <td>0</td>\n",
       "    </tr>\n",
       "  </tbody>\n",
       "</table>\n",
       "</div>"
      ],
      "text/plain": [
       "   having_IP_Address  URL_Length  Shortining_Service  having_At_Symbol  \\\n",
       "0                  1           1                   0                 0   \n",
       "1                  0           1                   0                 0   \n",
       "2                  0           0                   0                 0   \n",
       "3                  0           0                   0                 0   \n",
       "4                  0           0                   1                 0   \n",
       "\n",
       "   double_slash_redirecting  Prefix_Suffix  having_Sub_Domain  SSLfinal_State  \\\n",
       "0                         1             -1                 -1              -1   \n",
       "1                         0             -1                  0               1   \n",
       "2                         0             -1                 -1              -1   \n",
       "3                         0             -1                 -1              -1   \n",
       "4                         0             -1                  1               1   \n",
       "\n",
       "   Domain_registeration_length  Favicon  port  HTTPS_token  Request_URL  \\\n",
       "0                            0        0     0            1            1   \n",
       "1                            0        0     0            1            1   \n",
       "2                            0        0     0            1            1   \n",
       "3                            1        0     0            1           -1   \n",
       "4                            0        0     0            0            1   \n",
       "\n",
       "   URL_of_Anchor  Links_in_tags  SFH  Submitting_to_email  Abnormal_URL  \\\n",
       "0             -1              1   -1                    1             1   \n",
       "1              0             -1   -1                    0             0   \n",
       "2              0             -1   -1                    1             1   \n",
       "3              0              0   -1                    0             0   \n",
       "4              0              0   -1                    0             0   \n",
       "\n",
       "   Redirect  on_mouseover  RightClick  popUpWidnow  Iframe  age_of_domain  \\\n",
       "0         0             0           0            0       0             -1   \n",
       "1         0             0           0            0       0             -1   \n",
       "2         0             0           0            0       0              0   \n",
       "3         0             0           0            0       0             -1   \n",
       "4         0             1           0            1       0             -1   \n",
       "\n",
       "   DNSRecord  web_traffic  Page_Rank  Google_Index  Links_pointing_to_page  \\\n",
       "0          1           -1         -1             0                       1   \n",
       "1          1            0         -1             0                       1   \n",
       "2          1            1         -1             0                       0   \n",
       "3          1            1         -1             0                      -1   \n",
       "4          1            0         -1             0                       1   \n",
       "\n",
       "   Statistical_report  Result  \n",
       "0                   1       1  \n",
       "1                   0       1  \n",
       "2                   1       1  \n",
       "3                   0       1  \n",
       "4                   0       0  "
      ]
     },
     "execution_count": 2,
     "metadata": {},
     "output_type": "execute_result"
    }
   ],
   "source": [
    "df = pd.read_excel('/Users/Shared/Shyam/Datasets/Phishing/Phishing Data.xlsx')\n",
    "pd.set_option('max_columns', 50)\n",
    "df.head()"
   ]
  },
  {
   "cell_type": "code",
   "execution_count": 3,
   "metadata": {},
   "outputs": [
    {
     "name": "stdout",
     "output_type": "stream",
     "text": [
      "<class 'pandas.core.frame.DataFrame'>\n",
      "RangeIndex: 2456 entries, 0 to 2455\n",
      "Data columns (total 31 columns):\n",
      "having_IP_Address              2456 non-null int64\n",
      "URL_Length                     2456 non-null int64\n",
      "Shortining_Service             2456 non-null int64\n",
      "having_At_Symbol               2456 non-null int64\n",
      "double_slash_redirecting       2456 non-null int64\n",
      "Prefix_Suffix                  2456 non-null int64\n",
      "having_Sub_Domain              2456 non-null int64\n",
      "SSLfinal_State                 2456 non-null int64\n",
      "Domain_registeration_length    2456 non-null int64\n",
      "Favicon                        2456 non-null int64\n",
      "port                           2456 non-null int64\n",
      "HTTPS_token                    2456 non-null int64\n",
      "Request_URL                    2456 non-null int64\n",
      "URL_of_Anchor                  2456 non-null int64\n",
      "Links_in_tags                  2456 non-null int64\n",
      "SFH                            2456 non-null int64\n",
      "Submitting_to_email            2456 non-null int64\n",
      "Abnormal_URL                   2456 non-null int64\n",
      "Redirect                       2456 non-null int64\n",
      "on_mouseover                   2456 non-null int64\n",
      "RightClick                     2456 non-null int64\n",
      "popUpWidnow                    2456 non-null int64\n",
      "Iframe                         2456 non-null int64\n",
      "age_of_domain                  2456 non-null int64\n",
      "DNSRecord                      2456 non-null int64\n",
      "web_traffic                    2456 non-null int64\n",
      "Page_Rank                      2456 non-null int64\n",
      "Google_Index                   2456 non-null int64\n",
      "Links_pointing_to_page         2456 non-null int64\n",
      "Statistical_report             2456 non-null int64\n",
      "Result                         2456 non-null int64\n",
      "dtypes: int64(31)\n",
      "memory usage: 594.9 KB\n"
     ]
    }
   ],
   "source": [
    "df.info()"
   ]
  },
  {
   "cell_type": "markdown",
   "metadata": {},
   "source": [
    "### Check for missing values"
   ]
  },
  {
   "cell_type": "code",
   "execution_count": 4,
   "metadata": {},
   "outputs": [
    {
     "data": {
      "text/plain": [
       "having_IP_Address              0\n",
       "URL_Length                     0\n",
       "Shortining_Service             0\n",
       "having_At_Symbol               0\n",
       "double_slash_redirecting       0\n",
       "Prefix_Suffix                  0\n",
       "having_Sub_Domain              0\n",
       "SSLfinal_State                 0\n",
       "Domain_registeration_length    0\n",
       "Favicon                        0\n",
       "port                           0\n",
       "HTTPS_token                    0\n",
       "Request_URL                    0\n",
       "URL_of_Anchor                  0\n",
       "Links_in_tags                  0\n",
       "SFH                            0\n",
       "Submitting_to_email            0\n",
       "Abnormal_URL                   0\n",
       "Redirect                       0\n",
       "on_mouseover                   0\n",
       "RightClick                     0\n",
       "popUpWidnow                    0\n",
       "Iframe                         0\n",
       "age_of_domain                  0\n",
       "DNSRecord                      0\n",
       "web_traffic                    0\n",
       "Page_Rank                      0\n",
       "Google_Index                   0\n",
       "Links_pointing_to_page         0\n",
       "Statistical_report             0\n",
       "Result                         0\n",
       "dtype: int64"
      ]
     },
     "execution_count": 4,
     "metadata": {},
     "output_type": "execute_result"
    }
   ],
   "source": [
    "df.isnull().sum()"
   ]
  },
  {
   "cell_type": "markdown",
   "metadata": {},
   "source": [
    "### Distribution of target variable"
   ]
  },
  {
   "cell_type": "code",
   "execution_count": 5,
   "metadata": {},
   "outputs": [
    {
     "data": {
      "text/plain": [
       "<matplotlib.axes._subplots.AxesSubplot at 0x1a24f26f60>"
      ]
     },
     "execution_count": 5,
     "metadata": {},
     "output_type": "execute_result"
    },
    {
     "data": {
      "image/png": "[encoded data removed]",
      "text/plain": [
       "<Figure size 432x288 with 1 Axes>"
      ]
     },
     "metadata": {
      "needs_background": "light"
     },
     "output_type": "display_data"
    }
   ],
   "source": [
    "sns.countplot(df['Result'])"
   ]
  },
  {
   "cell_type": "markdown",
   "metadata": {},
   "source": [
    "### Baseline Models"
   ]
  },
  {
   "cell_type": "code",
   "execution_count": 6,
   "metadata": {},
   "outputs": [],
   "source": [
    "#Splitting data\n",
    "\n",
    "from sklearn.model_selection import train_test_split\n",
    "\n",
    "X = df.drop('Result', axis = 1)\n",
    "y= df['Result']\n",
    "\n",
    "X_train, X_test, y_train, y_test = train_test_split(X, y, random_state = 42, test_size = 0.3, stratify = y)"
   ]
  },
  {
   "cell_type": "code",
   "execution_count": 7,
   "metadata": {},
   "outputs": [
    {
     "name": "stdout",
     "output_type": "stream",
     "text": [
      "\n",
      " Decision Tree \n",
      "\n",
      "Classification Report:\n",
      "               precision    recall  f1-score   support\n",
      "\n",
      "           0       0.94      0.96      0.95       409\n",
      "           1       0.95      0.93      0.94       328\n",
      "\n",
      "    accuracy                           0.95       737\n",
      "   macro avg       0.95      0.94      0.94       737\n",
      "weighted avg       0.95      0.95      0.95       737\n",
      "\n",
      "\n",
      "Confusion Matrix:\n",
      " [[392  17]\n",
      " [ 23 305]]\n",
      "\n",
      "Cross Validation Score:  0.9686455444401654\n",
      "\n",
      " SVM \n",
      "\n",
      "Classification Report:\n",
      "               precision    recall  f1-score   support\n",
      "\n",
      "           0       0.95      0.95      0.95       409\n",
      "           1       0.94      0.94      0.94       328\n",
      "\n",
      "    accuracy                           0.95       737\n",
      "   macro avg       0.95      0.94      0.95       737\n",
      "weighted avg       0.95      0.95      0.95       737\n",
      "\n",
      "\n",
      "Confusion Matrix:\n",
      " [[390  19]\n",
      " [ 21 307]]\n",
      "\n",
      "Cross Validation Score:  0.9580590558585668\n",
      "\n",
      " Logistic Regression \n",
      "\n",
      "Classification Report:\n",
      "               precision    recall  f1-score   support\n",
      "\n",
      "           0       0.93      0.95      0.94       409\n",
      "           1       0.93      0.91      0.92       328\n",
      "\n",
      "    accuracy                           0.93       737\n",
      "   macro avg       0.93      0.93      0.93       737\n",
      "weighted avg       0.93      0.93      0.93       737\n",
      "\n",
      "\n",
      "Confusion Matrix:\n",
      " [[387  22]\n",
      " [ 31 297]]\n",
      "\n",
      "Cross Validation Score:  0.9425885623929634\n",
      "\n",
      " Random Forests \n",
      "\n",
      "Classification Report:\n",
      "               precision    recall  f1-score   support\n",
      "\n",
      "           0       0.97      0.97      0.97       409\n",
      "           1       0.96      0.96      0.96       328\n",
      "\n",
      "    accuracy                           0.97       737\n",
      "   macro avg       0.97      0.97      0.97       737\n",
      "weighted avg       0.97      0.97      0.97       737\n",
      "\n",
      "\n",
      "Confusion Matrix:\n",
      " [[396  13]\n",
      " [ 12 316]]\n",
      "\n",
      "Cross Validation Score:  0.9800435460582161\n"
     ]
    }
   ],
   "source": [
    "from sklearn.tree import DecisionTreeClassifier\n",
    "from sklearn.svm import SVC\n",
    "from sklearn.linear_model import LogisticRegression\n",
    "from sklearn.ensemble import RandomForestClassifier\n",
    "from sklearn import metrics\n",
    "from sklearn.model_selection import cross_val_score\n",
    "\n",
    "\n",
    "classifiers = {'Decision Tree' : DecisionTreeClassifier(random_state = 42),\n",
    "               'SVM' : SVC(), \n",
    "               'Logistic Regression' : LogisticRegression(), \n",
    "               'Random Forests' : RandomForestClassifier(random_state = 42)}\n",
    "\n",
    "for key, val in classifiers.items(): #Looping over classifiers and displaying scores\n",
    "        val.fit(X_train , y_train)\n",
    "        prediction = val.predict(X_test)\n",
    "        score = cross_val_score(val , X , y , cv = 3 , scoring = 'accuracy').mean()\n",
    "        print('\\n' , key , '\\n')\n",
    "        print('Classification Report:\\n' , metrics.classification_report(y_test , prediction))\n",
    "        print('\\nConfusion Matrix:\\n' , metrics.confusion_matrix(y_test , prediction))\n",
    "        print('\\nCross Validation Score: ' , score)"
   ]
  },
  {
   "cell_type": "markdown",
   "metadata": {},
   "source": [
    "### Hyperparameter Optimization of best model (Random Forests)"
   ]
  },
  {
   "cell_type": "code",
   "execution_count": 8,
   "metadata": {},
   "outputs": [
    {
     "name": "stdout",
     "output_type": "stream",
     "text": [
      "Best Score:  0.9703335819377585\n",
      "Best Parameters:  {'criterion': 'entropy', 'max_features': 'log2', 'n_estimators': 600}\n"
     ]
    }
   ],
   "source": [
    "from sklearn.model_selection import GridSearchCV\n",
    "\n",
    "parameters = {'n_estimators': [100, 600], 'max_features': ['sqrt', 'log2'], \n",
    "               'criterion' :['gini', 'entropy']}\n",
    "\n",
    "\n",
    "grid_search = GridSearchCV(RandomForestClassifier(random_state = 42), parameters, cv = 5, n_jobs = -1)\n",
    "grid_search.fit(X_train, y_train)\n",
    "\n",
    "print('Best Score: ', grid_search.best_score_)\n",
    "print('Best Parameters: ', grid_search.best_params_)"
   ]
  },
  {
   "cell_type": "markdown",
   "metadata": {},
   "source": [
    "### Retraining model with optimized parameters"
   ]
  },
  {
   "cell_type": "code",
   "execution_count": 9,
   "metadata": {},
   "outputs": [
    {
     "name": "stdout",
     "output_type": "stream",
     "text": [
      "Classification Report:\n",
      "               precision    recall  f1-score   support\n",
      "\n",
      "           0       0.97      0.97      0.97       409\n",
      "           1       0.96      0.97      0.96       328\n",
      "\n",
      "    accuracy                           0.97       737\n",
      "   macro avg       0.97      0.97      0.97       737\n",
      "weighted avg       0.97      0.97      0.97       737\n",
      "\n",
      "\n",
      "Confusion Matrix:\n",
      " [[396  13]\n",
      " [ 11 317]]\n",
      "\n",
      "Cross Validation Score:  0.9804510440207261\n"
     ]
    }
   ],
   "source": [
    "final_model = RandomForestClassifier(random_state = 42, criterion = 'entropy', max_features = 'log2',\n",
    "                                     n_estimators = 600)\n",
    "final_model.fit(X_train , y_train)\n",
    "prediction = final_model.predict(X_test)\n",
    "score = cross_val_score(final_model , X , y , cv = 3 , scoring = 'accuracy').mean()\n",
    "print('Classification Report:\\n' , metrics.classification_report(y_test , prediction))\n",
    "print('\\nConfusion Matrix:\\n' , metrics.confusion_matrix(y_test , prediction))\n",
    "print('\\nCross Validation Score: ' , score)"
   ]
  },
  {
   "cell_type": "markdown",
   "metadata": {},
   "source": [
    "### Plotting important features for Random Forest"
   ]
  },
  {
   "cell_type": "code",
   "execution_count": 10,
   "metadata": {},
   "outputs": [
    {
     "data": {
      "image/png": "[encoded data removed]",
      "text/plain": [
       "<Figure size 1080x288 with 1 Axes>"
      ]
     },
     "metadata": {
      "needs_background": "light"
     },
     "output_type": "display_data"
    }
   ],
   "source": [
    "features = X.columns\n",
    "rf = RandomForestClassifier(random_state = 42)\n",
    "rf.fit(X_train, y_train)\n",
    "tmp = pd.DataFrame({'Feature' : features , 'Feature Importance' : rf.feature_importances_})\n",
    "tmp = tmp.sort_values(by = 'Feature Importance' , ascending = False)\n",
    "plt.figure(figsize = (15 , 4))\n",
    "plt.title('Feature Importance' , fontsize = 14)\n",
    "s = sns.barplot(x = 'Feature' , y = 'Feature Importance' , data = tmp)\n",
    "s.set_xticklabels(s.get_xticklabels() , rotation = 90)\n",
    "plt.show()  "
   ]
  }
 ],
 "metadata": {
  "kernelspec": {
   "display_name": "Python 3",
   "language": "python",
   "name": "python3"
  },
  "language_info": {
   "codemirror_mode": {
    "name": "ipython",
    "version": 3
   },
   "file_extension": ".py",
   "mimetype": "text/x-python",
   "name": "python",
   "nbconvert_exporter": "python",
   "pygments_lexer": "ipython3",
   "version": "3.7.3"
  }
 },
 "nbformat": 4,
 "nbformat_minor": 2
}
